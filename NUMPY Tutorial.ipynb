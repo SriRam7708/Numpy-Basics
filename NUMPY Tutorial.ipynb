{
 "cells": [
  {
   "cell_type": "markdown",
   "id": "d98258f0",
   "metadata": {},
   "source": [
    "# NUMPY BASICS"
   ]
  },
  {
   "cell_type": "code",
   "execution_count": 1,
   "id": "2e801d86",
   "metadata": {},
   "outputs": [],
   "source": [
    "import numpy as np"
   ]
  },
  {
   "cell_type": "code",
   "execution_count": 2,
   "id": "5c5840e1",
   "metadata": {},
   "outputs": [],
   "source": [
    "#create a list\n",
    "lst=[1,2,3,4,5]"
   ]
  },
  {
   "cell_type": "code",
   "execution_count": 3,
   "id": "ac1e9502",
   "metadata": {},
   "outputs": [
    {
     "name": "stdout",
     "output_type": "stream",
     "text": [
      "[1, 2, 3, 4, 5]\n"
     ]
    }
   ],
   "source": [
    "print(lst)"
   ]
  },
  {
   "cell_type": "code",
   "execution_count": 4,
   "id": "0d56ea9e",
   "metadata": {},
   "outputs": [],
   "source": [
    "#change list into array\n",
    "arr=np.array(lst)"
   ]
  },
  {
   "cell_type": "code",
   "execution_count": 5,
   "id": "f8a4a70f",
   "metadata": {},
   "outputs": [
    {
     "data": {
      "text/plain": [
       "numpy.ndarray"
      ]
     },
     "execution_count": 5,
     "metadata": {},
     "output_type": "execute_result"
    }
   ],
   "source": [
    "type(arr)"
   ]
  },
  {
   "cell_type": "code",
   "execution_count": 6,
   "id": "f7eebf17",
   "metadata": {},
   "outputs": [
    {
     "name": "stdout",
     "output_type": "stream",
     "text": [
      "[1 2 3 4 5]\n"
     ]
    }
   ],
   "source": [
    "print(arr)"
   ]
  },
  {
   "cell_type": "code",
   "execution_count": 7,
   "id": "d2c9bcf4",
   "metadata": {},
   "outputs": [
    {
     "data": {
      "text/plain": [
       "(5,)"
      ]
     },
     "execution_count": 7,
     "metadata": {},
     "output_type": "execute_result"
    }
   ],
   "source": [
    "#1-dim array\n",
    "np.shape(arr)"
   ]
  },
  {
   "cell_type": "code",
   "execution_count": 8,
   "id": "43625afe",
   "metadata": {},
   "outputs": [],
   "source": [
    "#create a list of 3\n",
    "lst1=[1,2,3,4,5]\n",
    "lst2=[9,8,5,6,7]\n",
    "lst3=[3,5,7,4,2]"
   ]
  },
  {
   "cell_type": "code",
   "execution_count": 9,
   "id": "a44c7883",
   "metadata": {},
   "outputs": [],
   "source": [
    "arr1=np.array([lst1,lst2,lst3,])"
   ]
  },
  {
   "cell_type": "code",
   "execution_count": 10,
   "id": "b9a89a0b",
   "metadata": {},
   "outputs": [
    {
     "data": {
      "text/plain": [
       "array([[1, 2, 3, 4, 5],\n",
       "       [9, 8, 5, 6, 7],\n",
       "       [3, 5, 7, 4, 2]])"
      ]
     },
     "execution_count": 10,
     "metadata": {},
     "output_type": "execute_result"
    }
   ],
   "source": [
    "#2-dim array\n",
    "arr1"
   ]
  },
  {
   "cell_type": "code",
   "execution_count": 11,
   "id": "b171d325",
   "metadata": {},
   "outputs": [
    {
     "data": {
      "text/plain": [
       "(3, 5)"
      ]
     },
     "execution_count": 11,
     "metadata": {},
     "output_type": "execute_result"
    }
   ],
   "source": [
    "arr1.shape\n"
   ]
  },
  {
   "cell_type": "code",
   "execution_count": 12,
   "id": "49f0c1a5",
   "metadata": {},
   "outputs": [
    {
     "data": {
      "text/plain": [
       "array([[1, 2, 3],\n",
       "       [4, 5, 9],\n",
       "       [8, 5, 6],\n",
       "       [7, 3, 5],\n",
       "       [7, 4, 2]])"
      ]
     },
     "execution_count": 12,
     "metadata": {},
     "output_type": "execute_result"
    }
   ],
   "source": [
    "#Reshaping should be same value(i.e 15)\n",
    "arr1.reshape(5,3)"
   ]
  },
  {
   "cell_type": "code",
   "execution_count": 13,
   "id": "89dbc6ff",
   "metadata": {},
   "outputs": [
    {
     "data": {
      "text/plain": [
       "array([[1],\n",
       "       [2],\n",
       "       [3],\n",
       "       [4],\n",
       "       [5],\n",
       "       [9],\n",
       "       [8],\n",
       "       [5],\n",
       "       [6],\n",
       "       [7],\n",
       "       [3],\n",
       "       [5],\n",
       "       [7],\n",
       "       [4],\n",
       "       [2]])"
      ]
     },
     "execution_count": 13,
     "metadata": {},
     "output_type": "execute_result"
    }
   ],
   "source": [
    "arr1.reshape(15,1)"
   ]
  },
  {
   "cell_type": "code",
   "execution_count": 14,
   "id": "17b57c1e",
   "metadata": {},
   "outputs": [
    {
     "data": {
      "text/plain": [
       "array([[1, 2, 3, 4, 5, 9, 8, 5, 6, 7, 3, 5, 7, 4, 2]])"
      ]
     },
     "execution_count": 14,
     "metadata": {},
     "output_type": "execute_result"
    }
   ],
   "source": [
    "arr1.reshape(1,15)"
   ]
  },
  {
   "cell_type": "markdown",
   "id": "579650cd",
   "metadata": {},
   "source": [
    "# Indexing of array"
   ]
  },
  {
   "cell_type": "code",
   "execution_count": 15,
   "id": "0233a256",
   "metadata": {},
   "outputs": [],
   "source": [
    "#1-dim indexing\n",
    "arr_1=np.array([1,2,3,4,5,6,7,8])"
   ]
  },
  {
   "cell_type": "code",
   "execution_count": 16,
   "id": "4500eb98",
   "metadata": {},
   "outputs": [
    {
     "data": {
      "text/plain": [
       "7"
      ]
     },
     "execution_count": 16,
     "metadata": {},
     "output_type": "execute_result"
    }
   ],
   "source": [
    "arr_1[6]"
   ]
  },
  {
   "cell_type": "code",
   "execution_count": 17,
   "id": "974c3348",
   "metadata": {},
   "outputs": [
    {
     "data": {
      "text/plain": [
       "array([3, 4, 5, 6, 7])"
      ]
     },
     "execution_count": 17,
     "metadata": {},
     "output_type": "execute_result"
    }
   ],
   "source": [
    "arr_1[2:7]"
   ]
  },
  {
   "cell_type": "code",
   "execution_count": 18,
   "id": "ebbaea76",
   "metadata": {},
   "outputs": [
    {
     "data": {
      "text/plain": [
       "array([[1, 2, 3, 4, 5],\n",
       "       [9, 8, 5, 6, 7],\n",
       "       [3, 5, 7, 4, 2]])"
      ]
     },
     "execution_count": 18,
     "metadata": {},
     "output_type": "execute_result"
    }
   ],
   "source": [
    "#2-dim indexing\n",
    "#1strow=0,2ndrow=1,3rdrow=2;\n",
    "#1stcol=0,2ndcol=1,3rdcol=2\n",
    "arr1"
   ]
  },
  {
   "cell_type": "code",
   "execution_count": 19,
   "id": "69123792",
   "metadata": {},
   "outputs": [
    {
     "data": {
      "text/plain": [
       "array([[5, 6],\n",
       "       [7, 4]])"
      ]
     },
     "execution_count": 19,
     "metadata": {},
     "output_type": "execute_result"
    }
   ],
   "source": [
    "arr1[1:3,2:4]"
   ]
  },
  {
   "cell_type": "code",
   "execution_count": 20,
   "id": "918a48c9",
   "metadata": {},
   "outputs": [
    {
     "data": {
      "text/plain": [
       "array([[1, 2],\n",
       "       [9, 8],\n",
       "       [3, 5]])"
      ]
     },
     "execution_count": 20,
     "metadata": {},
     "output_type": "execute_result"
    }
   ],
   "source": [
    "arr1[0:,0:2]"
   ]
  },
  {
   "cell_type": "code",
   "execution_count": 31,
   "id": "eadc9311",
   "metadata": {},
   "outputs": [],
   "source": [
    "arr=np.arange(1,10)"
   ]
  },
  {
   "cell_type": "code",
   "execution_count": 32,
   "id": "b25e6b1a",
   "metadata": {},
   "outputs": [
    {
     "data": {
      "text/plain": [
       "array([1, 2, 3, 4, 5, 6, 7, 8, 9])"
      ]
     },
     "execution_count": 32,
     "metadata": {},
     "output_type": "execute_result"
    }
   ],
   "source": [
    "arr"
   ]
  },
  {
   "cell_type": "code",
   "execution_count": 33,
   "id": "29a7c5a8",
   "metadata": {},
   "outputs": [],
   "source": [
    "arr[4:]=200"
   ]
  },
  {
   "cell_type": "code",
   "execution_count": 34,
   "id": "3bb5f407",
   "metadata": {},
   "outputs": [
    {
     "data": {
      "text/plain": [
       "array([  1,   2,   3,   4, 200, 200, 200, 200, 200])"
      ]
     },
     "execution_count": 34,
     "metadata": {},
     "output_type": "execute_result"
    }
   ],
   "source": [
    "arr"
   ]
  },
  {
   "cell_type": "code",
   "execution_count": 35,
   "id": "9c35d8bf",
   "metadata": {},
   "outputs": [],
   "source": [
    "#reference cell \n",
    "arr_ref=arr"
   ]
  },
  {
   "cell_type": "code",
   "execution_count": 36,
   "id": "52173b55",
   "metadata": {},
   "outputs": [],
   "source": [
    "arr_ref[4:]=500"
   ]
  },
  {
   "cell_type": "code",
   "execution_count": 37,
   "id": "320fa86c",
   "metadata": {},
   "outputs": [
    {
     "data": {
      "text/plain": [
       "array([  1,   2,   3,   4, 500, 500, 500, 500, 500])"
      ]
     },
     "execution_count": 37,
     "metadata": {},
     "output_type": "execute_result"
    }
   ],
   "source": [
    "arr_ref"
   ]
  },
  {
   "cell_type": "code",
   "execution_count": 38,
   "id": "151f79ad",
   "metadata": {},
   "outputs": [
    {
     "data": {
      "text/plain": [
       "array([  1,   2,   3,   4, 500, 500, 500, 500, 500])"
      ]
     },
     "execution_count": 38,
     "metadata": {},
     "output_type": "execute_result"
    }
   ],
   "source": [
    "arr"
   ]
  },
  {
   "cell_type": "code",
   "execution_count": 39,
   "id": "4132e207",
   "metadata": {},
   "outputs": [],
   "source": [
    "#copy()\n",
    "arr_ref2=arr.copy()"
   ]
  },
  {
   "cell_type": "code",
   "execution_count": 40,
   "id": "3061c0a1",
   "metadata": {},
   "outputs": [],
   "source": [
    "arr_ref2[4:]=1000"
   ]
  },
  {
   "cell_type": "code",
   "execution_count": 41,
   "id": "b3e95252",
   "metadata": {},
   "outputs": [
    {
     "data": {
      "text/plain": [
       "array([   1,    2,    3,    4, 1000, 1000, 1000, 1000, 1000])"
      ]
     },
     "execution_count": 41,
     "metadata": {},
     "output_type": "execute_result"
    }
   ],
   "source": [
    "arr_ref2"
   ]
  },
  {
   "cell_type": "code",
   "execution_count": 42,
   "id": "6f47cbfe",
   "metadata": {},
   "outputs": [
    {
     "data": {
      "text/plain": [
       "array([  1,   2,   3,   4, 500, 500, 500, 500, 500])"
      ]
     },
     "execution_count": 42,
     "metadata": {},
     "output_type": "execute_result"
    }
   ],
   "source": [
    "#no change in the base location\n",
    "arr"
   ]
  },
  {
   "cell_type": "code",
   "execution_count": 67,
   "id": "8266cfe6",
   "metadata": {},
   "outputs": [
    {
     "data": {
      "text/plain": [
       "array([[0.90689512, 0.83099384, 0.85420406],\n",
       "       [0.13833341, 0.24973341, 0.99043664],\n",
       "       [0.44512314, 0.40930336, 0.59085385],\n",
       "       [0.11932137, 0.47924938, 0.66656243]])"
      ]
     },
     "execution_count": 67,
     "metadata": {},
     "output_type": "execute_result"
    }
   ],
   "source": [
    "#random distribution-uniform dist values\n",
    "np.random.rand(4,3)"
   ]
  },
  {
   "cell_type": "code",
   "execution_count": 64,
   "id": "75bd77f1",
   "metadata": {},
   "outputs": [
    {
     "data": {
      "text/plain": [
       "array([[ 0.57865166, -0.53843369,  0.56115726],\n",
       "       [ 0.69786442,  0.17784236,  1.27423833],\n",
       "       [ 0.35606445,  1.04726178, -0.26808822],\n",
       "       [ 0.62101957, -0.31127684,  1.87720173],\n",
       "       [-0.88688586,  0.06325844, -0.66559111]])"
      ]
     },
     "execution_count": 64,
     "metadata": {},
     "output_type": "execute_result"
    }
   ],
   "source": [
    "#standard normal dist values\n",
    "np.random.randn(5,3)"
   ]
  },
  {
   "cell_type": "code",
   "execution_count": 68,
   "id": "0e67d88f",
   "metadata": {
    "scrolled": true
   },
   "outputs": [
    {
     "data": {
      "text/plain": [
       "array([667, 820, 851, 138, 566, 627, 902, 538, 256, 947])"
      ]
     },
     "execution_count": 68,
     "metadata": {},
     "output_type": "execute_result"
    }
   ],
   "source": [
    "np.random.randint(1,989,10)"
   ]
  },
  {
   "cell_type": "code",
   "execution_count": 70,
   "id": "8d01d816",
   "metadata": {
    "scrolled": true
   },
   "outputs": [
    {
     "data": {
      "text/plain": [
       "array([[700, 963],\n",
       "       [ 53, 662],\n",
       "       [406,  66],\n",
       "       [946, 515],\n",
       "       [694, 247]])"
      ]
     },
     "execution_count": 70,
     "metadata": {},
     "output_type": "execute_result"
    }
   ],
   "source": [
    "np.random.randint(1,989,10).reshape(5,2)"
   ]
  },
  {
   "cell_type": "code",
   "execution_count": 78,
   "id": "48eb3b58",
   "metadata": {
    "scrolled": false
   },
   "outputs": [
    {
     "data": {
      "text/plain": [
       "array([[0.91212434, 0.13727976, 0.95587822],\n",
       "       [0.9928996 , 0.96372644, 0.38207448],\n",
       "       [0.5758122 , 0.76719115, 0.62099141],\n",
       "       [0.81489149, 0.82109733, 0.6109126 ]])"
      ]
     },
     "execution_count": 78,
     "metadata": {},
     "output_type": "execute_result"
    }
   ],
   "source": [
    "np.random.random_sample((4,3))"
   ]
  },
  {
   "cell_type": "code",
   "execution_count": 61,
   "id": "374caf20",
   "metadata": {},
   "outputs": [
    {
     "data": {
      "text/plain": [
       "array([ 1.        ,  1.28571429,  1.57142857,  1.85714286,  2.14285714,\n",
       "        2.42857143,  2.71428571,  3.        ,  3.28571429,  3.57142857,\n",
       "        3.85714286,  4.14285714,  4.42857143,  4.71428571,  5.        ,\n",
       "        5.28571429,  5.57142857,  5.85714286,  6.14285714,  6.42857143,\n",
       "        6.71428571,  7.        ,  7.28571429,  7.57142857,  7.85714286,\n",
       "        8.14285714,  8.42857143,  8.71428571,  9.        ,  9.28571429,\n",
       "        9.57142857,  9.85714286, 10.14285714, 10.42857143, 10.71428571,\n",
       "       11.        , 11.28571429, 11.57142857, 11.85714286, 12.14285714,\n",
       "       12.42857143, 12.71428571, 13.        , 13.28571429, 13.57142857,\n",
       "       13.85714286, 14.14285714, 14.42857143, 14.71428571, 15.        ])"
      ]
     },
     "execution_count": 61,
     "metadata": {},
     "output_type": "execute_result"
    }
   ],
   "source": [
    "np.linspace(1,15,num=50)"
   ]
  },
  {
   "cell_type": "code",
   "execution_count": 55,
   "id": "b9e303d4",
   "metadata": {},
   "outputs": [],
   "source": [
    "a=arr_ref*arr_ref2"
   ]
  },
  {
   "cell_type": "code",
   "execution_count": 56,
   "id": "379bdca0",
   "metadata": {},
   "outputs": [
    {
     "data": {
      "text/plain": [
       "array([     1,      4,      9,     16, 500000, 500000, 500000, 500000,\n",
       "       500000])"
      ]
     },
     "execution_count": 56,
     "metadata": {},
     "output_type": "execute_result"
    }
   ],
   "source": [
    "a\n"
   ]
  },
  {
   "cell_type": "code",
   "execution_count": 58,
   "id": "0b1f13e8",
   "metadata": {},
   "outputs": [
    {
     "data": {
      "text/plain": [
       "array([[1, 1, 1, 1],\n",
       "       [1, 1, 1, 1],\n",
       "       [1, 1, 1, 1]])"
      ]
     },
     "execution_count": 58,
     "metadata": {},
     "output_type": "execute_result"
    }
   ],
   "source": [
    "np.ones((3,4),dtype=int)"
   ]
  },
  {
   "cell_type": "code",
   "execution_count": 59,
   "id": "8965c85a",
   "metadata": {},
   "outputs": [
    {
     "data": {
      "text/plain": [
       "array([1., 1., 1., 1., 1., 1., 1., 1.])"
      ]
     },
     "execution_count": 59,
     "metadata": {},
     "output_type": "execute_result"
    }
   ],
   "source": [
    "np.ones(8)"
   ]
  },
  {
   "cell_type": "code",
   "execution_count": null,
   "id": "fcb25215",
   "metadata": {},
   "outputs": [],
   "source": []
  }
 ],
 "metadata": {
  "kernelspec": {
   "display_name": "Python 3",
   "language": "python",
   "name": "python3"
  },
  "language_info": {
   "codemirror_mode": {
    "name": "ipython",
    "version": 3
   },
   "file_extension": ".py",
   "mimetype": "text/x-python",
   "name": "python",
   "nbconvert_exporter": "python",
   "pygments_lexer": "ipython3",
   "version": "3.8.8"
  }
 },
 "nbformat": 4,
 "nbformat_minor": 5
}
